{
  "nbformat": 4,
  "nbformat_minor": 0,
  "metadata": {
    "colab": {
      "name": "Projekt_WZUM.ipynb",
      "provenance": []
    },
    "kernelspec": {
      "name": "python3",
      "display_name": "Python 3"
    }
  },
  "cells": [
    {
      "cell_type": "markdown",
      "metadata": {
        "id": "BL2YyeYRwdzG",
        "colab_type": "text"
      },
      "source": [
        "## Projekt zaawansowane metody uczenia maszynowego\n",
        "### Anna Kozioł \n",
        "\n",
        "Celem projektu było próba przewidzenia czy dany użytkownik kliknie w rekamę."
      ]
    },
    {
      "cell_type": "code",
      "metadata": {
        "id": "miqH-cu8XAhT",
        "colab_type": "code",
        "colab": {}
      },
      "source": [
        "from urllib.request import urlretrieve\n",
        "import os\n",
        "import numpy as np\n",
        "import pandas as pd\n",
        "import tensorflow as tf\n",
        "from pprint import pprint\n",
        "import numpy as np\n",
        "import pandas as pd\n",
        "import tensorflow as tf\n",
        "\n",
        "from tensorflow import feature_column\n",
        "from tensorflow.keras import layers\n",
        "from sklearn.model_selection import train_test_split\n",
        "import tensorflow_hub as hub"
      ],
      "execution_count": 1,
      "outputs": []
    },
    {
      "cell_type": "code",
      "metadata": {
        "id": "DVFOHZXsXBq1",
        "colab_type": "code",
        "colab": {
          "base_uri": "https://localhost:8080/",
          "height": 69
        },
        "outputId": "a5bdb456-786b-46a8-9a5f-39c0808a3ba0"
      },
      "source": [
        "def download(url, file):\n",
        "    if not os.path.isfile(file):\n",
        "        print(\"Download file... \" + file + \" ...\")\n",
        "        urlretrieve(url,file)\n",
        "        print(\"File downloaded\")\n",
        "\n",
        "d100k_url = \"https://home.ipipan.waw.pl/sj/ml/AdClick/D100k.tsv.gz\"\n",
        "D5M_test_x_url = \"https://home.ipipan.waw.pl/sj/ml/AdClick/D5M_test_x.tsv.gz\"\n",
        "D10M_url = \"https://home.ipipan.waw.pl/sj/ml/AdClick/D10M.tsv.gz\"\n",
        " \n",
        "#download(d100k_url,'D100k.tsv.gz')\n",
        "download(D5M_test_x_url,'D5M_test_x.tsv.gz')\n",
        "\n",
        "print(\"All the files are downloaded\")"
      ],
      "execution_count": 2,
      "outputs": [
        {
          "output_type": "stream",
          "text": [
            "Download file... D5M_test_x.tsv.gz ...\n",
            "File downloaded\n",
            "All the files are downloaded\n"
          ],
          "name": "stdout"
        }
      ]
    },
    {
      "cell_type": "code",
      "metadata": {
        "id": "ZICqR2J_yZ8O",
        "colab_type": "code",
        "colab": {
          "base_uri": "https://localhost:8080/",
          "height": 52
        },
        "outputId": "0062a125-8c63-43f2-80e1-7218341bac08"
      },
      "source": [
        "download(D10M_url,'D10M.tsv.gz')"
      ],
      "execution_count": 43,
      "outputs": [
        {
          "output_type": "stream",
          "text": [
            "Download file... D10M.tsv.gz ...\n",
            "File downloaded\n"
          ],
          "name": "stdout"
        }
      ]
    },
    {
      "cell_type": "code",
      "metadata": {
        "id": "KL_DhDRh9cVh",
        "colab_type": "code",
        "colab": {
          "base_uri": "https://localhost:8080/",
          "height": 52
        },
        "outputId": "c95a98a4-52da-4ff5-bf3f-3602e90cbaa9"
      },
      "source": [
        "download(d100k_url,'D100k.tsv.gz')"
      ],
      "execution_count": 3,
      "outputs": [
        {
          "output_type": "stream",
          "text": [
            "Download file... D100k.tsv.gz ...\n",
            "File downloaded\n"
          ],
          "name": "stdout"
        }
      ]
    },
    {
      "cell_type": "code",
      "metadata": {
        "id": "7JqZI9TYXIP-",
        "colab_type": "code",
        "colab": {}
      },
      "source": [
        "ds = tf.data.experimental.make_csv_dataset(\"D100k.tsv.gz\",\n",
        "                                           field_delim=\"\\t\",\n",
        "                                           compression_type=\"GZIP\",\n",
        "                                            batch_size = 100, # increase for real work\n",
        "                                           num_epochs=1,\n",
        "                                           label_name=\"Click\")"
      ],
      "execution_count": 4,
      "outputs": []
    },
    {
      "cell_type": "code",
      "metadata": {
        "id": "G9WlY9-pw6Nu",
        "colab_type": "code",
        "colab": {}
      },
      "source": [
        "ds5M = tf.data.experimental.make_csv_dataset(\"D10M.tsv.gz\",\n",
        "                                           field_delim=\"\\t\",\n",
        "                                           compression_type=\"GZIP\",\n",
        "                                            batch_size = 100, # increase for real work\n",
        "                                           num_epochs=1,\n",
        "                                           label_name=\"Click\")"
      ],
      "execution_count": 44,
      "outputs": []
    },
    {
      "cell_type": "code",
      "metadata": {
        "id": "H-g0IJmJJICE",
        "colab_type": "code",
        "colab": {}
      },
      "source": [
        "ds_testowy=tf.data.experimental.make_csv_dataset(\"D5M_test_x.tsv.gz\",\n",
        "                                              column_defaults=[tf.int32, tf.float32, tf.int32, \n",
        "                                                               tf.int32, tf.int32,tf.int32,tf.int32,\n",
        "                                                               tf.int32,tf.int32, tf.string,tf.string,\n",
        "                                                               tf.string, tf.string],\n",
        "                                           field_delim=\"\\t\",\n",
        "                                           compression_type=\"GZIP\",\n",
        "                                           batch_size=1000,  # increase for real work\n",
        "                                           label_name=\"Click\",\n",
        "                                           num_epochs=1,\n",
        "                                           ignore_errors=True)"
      ],
      "execution_count": 5,
      "outputs": []
    },
    {
      "cell_type": "code",
      "metadata": {
        "id": "cclO4QuxqALt",
        "colab_type": "code",
        "colab": {
          "base_uri": "https://localhost:8080/",
          "height": 364
        },
        "outputId": "d5fb1ca8-6a2f-4504-e4b5-306e62ad7a1e"
      },
      "source": [
        "pprint(ds.element_spec)"
      ],
      "execution_count": 6,
      "outputs": [
        {
          "output_type": "stream",
          "text": [
            "(OrderedDict([('DisplayURL',\n",
            "               TensorSpec(shape=(None,), dtype=tf.float32, name=None)),\n",
            "              ('AdId', TensorSpec(shape=(None,), dtype=tf.int32, name=None)),\n",
            "              ('AdvertiserId',\n",
            "               TensorSpec(shape=(None,), dtype=tf.int32, name=None)),\n",
            "              ('Depth', TensorSpec(shape=(None,), dtype=tf.int32, name=None)),\n",
            "              ('Position',\n",
            "               TensorSpec(shape=(None,), dtype=tf.int32, name=None)),\n",
            "              ('UserID', TensorSpec(shape=(None,), dtype=tf.int32, name=None)),\n",
            "              ('Gender', TensorSpec(shape=(None,), dtype=tf.int32, name=None)),\n",
            "              ('Age', TensorSpec(shape=(None,), dtype=tf.int32, name=None)),\n",
            "              ('AdKeyword_tokens',\n",
            "               TensorSpec(shape=(None,), dtype=tf.string, name=None)),\n",
            "              ('AdTitle_tokens',\n",
            "               TensorSpec(shape=(None,), dtype=tf.string, name=None)),\n",
            "              ('AdDescription_tokens',\n",
            "               TensorSpec(shape=(None,), dtype=tf.string, name=None)),\n",
            "              ('Query_tokens',\n",
            "               TensorSpec(shape=(None,), dtype=tf.string, name=None))]),\n",
            " TensorSpec(shape=(None,), dtype=tf.int32, name=None))\n"
          ],
          "name": "stdout"
        }
      ]
    },
    {
      "cell_type": "code",
      "metadata": {
        "id": "cYnvpsGAFx3-",
        "colab_type": "code",
        "colab": {}
      },
      "source": [
        ""
      ],
      "execution_count": 10,
      "outputs": []
    },
    {
      "cell_type": "markdown",
      "metadata": {
        "id": "yCKar8sxOoGo",
        "colab_type": "text"
      },
      "source": [
        "## zbiór treningowy i testowy "
      ]
    },
    {
      "cell_type": "code",
      "metadata": {
        "id": "c8f-TbbLGbhK",
        "colab_type": "code",
        "colab": {}
      },
      "source": [
        "train = ds.take(700) "
      ],
      "execution_count": 6,
      "outputs": []
    },
    {
      "cell_type": "code",
      "metadata": {
        "id": "I9yMBUaWJ3eg",
        "colab_type": "code",
        "colab": {}
      },
      "source": [
        "test = ds.skip(700)"
      ],
      "execution_count": 7,
      "outputs": []
    },
    {
      "cell_type": "code",
      "metadata": {
        "id": "Psd0K4goInjT",
        "colab_type": "code",
        "colab": {}
      },
      "source": [
        ""
      ],
      "execution_count": null,
      "outputs": []
    },
    {
      "cell_type": "code",
      "metadata": {
        "id": "paWDfkG_Gxlu",
        "colab_type": "code",
        "colab": {}
      },
      "source": [
        "train5M = ds5M.take(700) "
      ],
      "execution_count": 46,
      "outputs": []
    },
    {
      "cell_type": "code",
      "metadata": {
        "id": "U0BkHXaWXINr",
        "colab_type": "code",
        "colab": {}
      },
      "source": [
        "test5M = ds5M.skip(700)"
      ],
      "execution_count": 47,
      "outputs": []
    },
    {
      "cell_type": "code",
      "metadata": {
        "id": "B_PZldEJXILM",
        "colab_type": "code",
        "colab": {}
      },
      "source": [
        ""
      ],
      "execution_count": null,
      "outputs": []
    },
    {
      "cell_type": "code",
      "metadata": {
        "id": "b9m1AVI5EcH4",
        "colab_type": "code",
        "colab": {}
      },
      "source": [
        ""
      ],
      "execution_count": null,
      "outputs": []
    },
    {
      "cell_type": "code",
      "metadata": {
        "id": "yFjR4kdFXIH8",
        "colab_type": "code",
        "colab": {}
      },
      "source": [
        "\n"
      ],
      "execution_count": null,
      "outputs": []
    },
    {
      "cell_type": "code",
      "metadata": {
        "id": "9tiRAKjxOyIW",
        "colab_type": "code",
        "colab": {}
      },
      "source": [
        ""
      ],
      "execution_count": null,
      "outputs": []
    },
    {
      "cell_type": "markdown",
      "metadata": {
        "id": "IQUKJ0QNPEoG",
        "colab_type": "text"
      },
      "source": [
        "\n"
      ]
    },
    {
      "cell_type": "code",
      "metadata": {
        "id": "-eGcXWSFXIAt",
        "colab_type": "code",
        "colab": {}
      },
      "source": [
        "\n",
        "\n"
      ],
      "execution_count": 12,
      "outputs": []
    },
    {
      "cell_type": "code",
      "metadata": {
        "id": "cA5jcZ4zXH2t",
        "colab_type": "code",
        "colab": {}
      },
      "source": [
        ""
      ],
      "execution_count": null,
      "outputs": []
    },
    {
      "cell_type": "markdown",
      "metadata": {
        "id": "vCeGb0VDqECC",
        "colab_type": "text"
      },
      "source": [
        "## Transformacje kolumn"
      ]
    },
    {
      "cell_type": "code",
      "metadata": {
        "id": "3nl-zsqObEU6",
        "colab_type": "code",
        "colab": {}
      },
      "source": [
        "columns = []\n",
        "\n",
        "age_discr = tf.feature_column.indicator_column(\n",
        "    tf.feature_column.categorical_column_with_vocabulary_list('Age', [1,2,3,4,5,6])\n",
        "    )\n",
        "\n",
        "columns.append(age_discr)\n",
        "\n",
        "gender_discr = tf.feature_column.indicator_column(\n",
        "    tf.feature_column.categorical_column_with_vocabulary_list('Gender', [0,1,2])\n",
        "    )\n",
        "\n",
        "columns.append(gender_discr)\n",
        "\n",
        "position_discr = tf.feature_column.indicator_column(\n",
        "    tf.feature_column.categorical_column_with_vocabulary_list('Position', [1,2,3])\n",
        "    )\n",
        "columns.append(position_discr)\n",
        "\n",
        "\n",
        "depth_discr = tf.feature_column.indicator_column(\n",
        "    tf.feature_column.categorical_column_with_vocabulary_list('Depth', [1,2,3])\n",
        "    )\n",
        "columns.append(depth_discr)\n",
        "\n",
        "thal_hashed =  tf.feature_column.indicator_column(\n",
        "    tf.feature_column.categorical_column_with_hash_bucket(\n",
        "      'AdDescription_tokens', hash_bucket_size=1000)\n",
        ")\n",
        "\n",
        "columns.append(thal_hashed)\n",
        "\n",
        "\n",
        "hashed2 =  tf.feature_column.indicator_column(\n",
        "    tf.feature_column.categorical_column_with_hash_bucket(\n",
        "      'Query_tokens', hash_bucket_size=500)\n",
        ")\n",
        "\n",
        "columns.append(hashed2)\n",
        "\n",
        "hashed3 =  tf.feature_column.indicator_column(\n",
        "    tf.feature_column.categorical_column_with_hash_bucket(\n",
        "      'AdTitle_tokens', hash_bucket_size=500)\n",
        ")\n",
        "\n",
        "columns.append(hashed3)\n",
        "\n",
        "\n",
        "\n",
        "\n",
        "\n",
        "\n"
      ],
      "execution_count": 45,
      "outputs": []
    },
    {
      "cell_type": "code",
      "metadata": {
        "id": "A3CCDKORIMLJ",
        "colab_type": "code",
        "colab": {}
      },
      "source": [
        ""
      ],
      "execution_count": 8,
      "outputs": []
    },
    {
      "cell_type": "code",
      "metadata": {
        "id": "5bZK5FtoAiAf",
        "colab_type": "code",
        "colab": {}
      },
      "source": [
        ""
      ],
      "execution_count": 9,
      "outputs": []
    },
    {
      "cell_type": "code",
      "metadata": {
        "id": "pDl30FDLAqgU",
        "colab_type": "code",
        "colab": {}
      },
      "source": [
        ""
      ],
      "execution_count": 8,
      "outputs": []
    },
    {
      "cell_type": "code",
      "metadata": {
        "id": "2EJBRvkoksdL",
        "colab_type": "code",
        "colab": {
          "base_uri": "https://localhost:8080/",
          "height": 139
        },
        "outputId": "e0531d20-1dba-40aa-d5b2-969d67f35641"
      },
      "source": [
        "columns"
      ],
      "execution_count": 48,
      "outputs": [
        {
          "output_type": "execute_result",
          "data": {
            "text/plain": [
              "[IndicatorColumn(categorical_column=VocabularyListCategoricalColumn(key='Age', vocabulary_list=(1, 2, 3, 4, 5, 6), dtype=tf.int64, default_value=-1, num_oov_buckets=0)),\n",
              " IndicatorColumn(categorical_column=VocabularyListCategoricalColumn(key='Gender', vocabulary_list=(0, 1, 2), dtype=tf.int64, default_value=-1, num_oov_buckets=0)),\n",
              " IndicatorColumn(categorical_column=VocabularyListCategoricalColumn(key='Position', vocabulary_list=(1, 2, 3), dtype=tf.int64, default_value=-1, num_oov_buckets=0)),\n",
              " IndicatorColumn(categorical_column=VocabularyListCategoricalColumn(key='Depth', vocabulary_list=(1, 2, 3), dtype=tf.int64, default_value=-1, num_oov_buckets=0)),\n",
              " IndicatorColumn(categorical_column=HashedCategoricalColumn(key='AdDescription_tokens', hash_bucket_size=1000, dtype=tf.string)),\n",
              " IndicatorColumn(categorical_column=HashedCategoricalColumn(key='Query_tokens', hash_bucket_size=500, dtype=tf.string)),\n",
              " IndicatorColumn(categorical_column=HashedCategoricalColumn(key='AdTitle_tokens', hash_bucket_size=500, dtype=tf.string))]"
            ]
          },
          "metadata": {
            "tags": []
          },
          "execution_count": 48
        }
      ]
    },
    {
      "cell_type": "markdown",
      "metadata": {
        "id": "DDnAhPU4PfU4",
        "colab_type": "text"
      },
      "source": [
        ""
      ]
    },
    {
      "cell_type": "markdown",
      "metadata": {
        "id": "rSw0m9UwPd4O",
        "colab_type": "text"
      },
      "source": [
        ""
      ]
    },
    {
      "cell_type": "markdown",
      "metadata": {
        "id": "VdQQ4Rk5PPrA",
        "colab_type": "text"
      },
      "source": [
        ""
      ]
    },
    {
      "cell_type": "code",
      "metadata": {
        "id": "Nb3dHK1BbBk7",
        "colab_type": "code",
        "colab": {}
      },
      "source": [
        ""
      ],
      "execution_count": 19,
      "outputs": []
    },
    {
      "cell_type": "code",
      "metadata": {
        "id": "Y2_HTSZXbBeT",
        "colab_type": "code",
        "colab": {}
      },
      "source": [
        ""
      ],
      "execution_count": 9,
      "outputs": []
    },
    {
      "cell_type": "markdown",
      "metadata": {
        "id": "jCDqpFzBPzK2",
        "colab_type": "text"
      },
      "source": [
        "## Model\n"
      ]
    },
    {
      "cell_type": "code",
      "metadata": {
        "id": "josHp5e0bBTl",
        "colab_type": "code",
        "colab": {
          "base_uri": "https://localhost:8080/",
          "height": 208
        },
        "outputId": "b9e98cef-97c9-4562-f1f5-a47226bd6e6e"
      },
      "source": [
        "feature_layer  = tf.keras.layers.DenseFeatures(columns)\n",
        "model = tf.keras.Sequential([\n",
        "  feature_layer,\n",
        "  layers.Dense(128, activation='relu'),\n",
        "  layers.Dense(128, activation='relu'),\n",
        "  layers.Dense(100, activation='relu'),\n",
        "  layers.Dense(1, activation=\"sigmoid\")\n",
        "])\n",
        "\n",
        "model.compile(optimizer='adam',\n",
        "              loss=tf.keras.losses.BinaryCrossentropy(from_logits=False),\n",
        "              metrics=[\"accuracy\", tf.keras.metrics.AUC(name=\"auc\")])\n",
        "''\n",
        "model.fit(train,       \n",
        "          epochs=5, validation_data = test)"
      ],
      "execution_count": 10,
      "outputs": [
        {
          "output_type": "stream",
          "text": [
            "Epoch 1/5\n",
            "700/700 [==============================] - 9s 13ms/step - loss: 0.2024 - accuracy: 0.9504 - auc: 0.5881 - val_loss: 0.1985 - val_accuracy: 0.9503 - val_auc: 0.6275\n",
            "Epoch 2/5\n",
            "700/700 [==============================] - 9s 13ms/step - loss: 0.1776 - accuracy: 0.9508 - auc: 0.7376 - val_loss: 0.1908 - val_accuracy: 0.9519 - val_auc: 0.6531\n",
            "Epoch 3/5\n",
            "700/700 [==============================] - 9s 13ms/step - loss: 0.1564 - accuracy: 0.9514 - auc: 0.8336 - val_loss: 0.1941 - val_accuracy: 0.9526 - val_auc: 0.6731\n",
            "Epoch 4/5\n",
            "700/700 [==============================] - 9s 13ms/step - loss: 0.1221 - accuracy: 0.9592 - auc: 0.9110 - val_loss: 0.1953 - val_accuracy: 0.9537 - val_auc: 0.6919\n",
            "Epoch 5/5\n",
            "700/700 [==============================] - 9s 13ms/step - loss: 0.0889 - accuracy: 0.9696 - auc: 0.9540 - val_loss: 0.2073 - val_accuracy: 0.9456 - val_auc: 0.7041\n"
          ],
          "name": "stdout"
        },
        {
          "output_type": "execute_result",
          "data": {
            "text/plain": [
              "<tensorflow.python.keras.callbacks.History at 0x7f3d726cbe80>"
            ]
          },
          "metadata": {
            "tags": []
          },
          "execution_count": 10
        }
      ]
    },
    {
      "cell_type": "markdown",
      "metadata": {
        "id": "GMXhUfGrxmp-",
        "colab_type": "text"
      },
      "source": [
        ""
      ]
    },
    {
      "cell_type": "code",
      "metadata": {
        "id": "5hT0AqzeLJ_c",
        "colab_type": "code",
        "colab": {
          "base_uri": "https://localhost:8080/",
          "height": 208
        },
        "outputId": "8815335d-6488-43d0-cdc8-9384e2ecc834"
      },
      "source": [
        "feature_layer  = tf.keras.layers.DenseFeatures(columns)\n",
        "model = tf.keras.Sequential([\n",
        "  feature_layer,\n",
        "  layers.Dense(128, activation='relu'),\n",
        "  layers.Dense(128, activation='relu'),\n",
        "  layers.Dense(100, activation='relu'),\n",
        "  layers.Dense(1, activation=\"sigmoid\")\n",
        "])\n",
        "\n",
        "model.compile(optimizer='adam',\n",
        "              loss=tf.keras.losses.BinaryCrossentropy(from_logits=False),\n",
        "              metrics=[\"accuracy\", tf.keras.metrics.AUC(name=\"auc\")])\n",
        "\n",
        "model.fit(train5M,       \n",
        "          epochs=5, validation_data = test5M)"
      ],
      "execution_count": 49,
      "outputs": [
        {
          "output_type": "stream",
          "text": [
            "Epoch 1/5\n",
            "700/700 [==============================] - 487s 696ms/step - loss: 0.2033 - accuracy: 0.9503 - auc: 0.5874 - val_loss: 0.1887 - val_accuracy: 0.9532 - val_auc: 0.5959\n",
            "Epoch 2/5\n",
            "700/700 [==============================] - 484s 692ms/step - loss: 0.1778 - accuracy: 0.9509 - auc: 0.7375 - val_loss: 0.1915 - val_accuracy: 0.9532 - val_auc: 0.5901\n",
            "Epoch 3/5\n",
            "700/700 [==============================] - 486s 694ms/step - loss: 0.1586 - accuracy: 0.9514 - auc: 0.8229 - val_loss: 0.2003 - val_accuracy: 0.9532 - val_auc: 0.5708\n",
            "Epoch 4/5\n",
            "700/700 [==============================] - 502s 717ms/step - loss: 0.1300 - accuracy: 0.9562 - auc: 0.8963 - val_loss: 0.2178 - val_accuracy: 0.9497 - val_auc: 0.5661\n",
            "Epoch 5/5\n",
            "700/700 [==============================] - 483s 690ms/step - loss: 0.0956 - accuracy: 0.9678 - auc: 0.9483 - val_loss: 0.2459 - val_accuracy: 0.9436 - val_auc: 0.5721\n"
          ],
          "name": "stdout"
        },
        {
          "output_type": "execute_result",
          "data": {
            "text/plain": [
              "<tensorflow.python.keras.callbacks.History at 0x7f3d70551d30>"
            ]
          },
          "metadata": {
            "tags": []
          },
          "execution_count": 49
        }
      ]
    },
    {
      "cell_type": "code",
      "metadata": {
        "id": "GL7Zqp_XLJ0p",
        "colab_type": "code",
        "colab": {}
      },
      "source": [
        "pwstwa = model.predict(ds_testowy )"
      ],
      "execution_count": 12,
      "outputs": []
    },
    {
      "cell_type": "code",
      "metadata": {
        "id": "cS7ZRReRrze_",
        "colab_type": "code",
        "colab": {
          "base_uri": "https://localhost:8080/",
          "height": 139
        },
        "outputId": "dc6ec31c-5825-4c76-a23b-530713d2518b"
      },
      "source": [
        "pwstwa"
      ],
      "execution_count": 14,
      "outputs": [
        {
          "output_type": "execute_result",
          "data": {
            "text/plain": [
              "array([[0.06295416],\n",
              "       [0.2642166 ],\n",
              "       [0.08379552],\n",
              "       ...,\n",
              "       [0.07893473],\n",
              "       [0.10833943],\n",
              "       [0.49144122]], dtype=float32)"
            ]
          },
          "metadata": {
            "tags": []
          },
          "execution_count": 14
        }
      ]
    },
    {
      "cell_type": "code",
      "metadata": {
        "id": "DNwcpFrrp3NC",
        "colab_type": "code",
        "colab": {}
      },
      "source": [
        "wyniki = pd.DataFrame(pwstwa)"
      ],
      "execution_count": 36,
      "outputs": []
    },
    {
      "cell_type": "code",
      "metadata": {
        "id": "vvivPeOlsvrO",
        "colab_type": "code",
        "colab": {}
      },
      "source": [
        "wyniki.columns = [\"AK\"]"
      ],
      "execution_count": 37,
      "outputs": []
    },
    {
      "cell_type": "code",
      "metadata": {
        "id": "4dCZBalUtHW3",
        "colab_type": "code",
        "colab": {
          "base_uri": "https://localhost:8080/",
          "height": 191
        },
        "outputId": "c9429b6e-1d0e-4fef-98f6-b42c6cc10691"
      },
      "source": [
        "print(wyniki.to_csv(sep='\\t', index=False))"
      ],
      "execution_count": 38,
      "outputs": [
        {
          "output_type": "stream",
          "text": [
            "IOPub data rate exceeded.\n",
            "The notebook server will temporarily stop sending output\n",
            "to the client in order to avoid crashing it.\n",
            "To change this limit, set the config variable\n",
            "`--NotebookApp.iopub_data_rate_limit`.\n",
            "\n",
            "Current values:\n",
            "NotebookApp.iopub_data_rate_limit=1000000.0 (bytes/sec)\n",
            "NotebookApp.rate_limit_window=3.0 (secs)\n",
            "\n"
          ],
          "name": "stderr"
        }
      ]
    },
    {
      "cell_type": "markdown",
      "metadata": {
        "id": "qzfJ6U4swcGr",
        "colab_type": "text"
      },
      "source": [
        ""
      ]
    },
    {
      "cell_type": "code",
      "metadata": {
        "id": "xpgxYIfetY7E",
        "colab_type": "code",
        "colab": {}
      },
      "source": [
        "wyniki.to_csv('scory_projekt.txt', sep='\\t',  index=None)"
      ],
      "execution_count": 41,
      "outputs": []
    },
    {
      "cell_type": "code",
      "metadata": {
        "id": "tIO1wcZOuF2O",
        "colab_type": "code",
        "colab": {}
      },
      "source": [
        ""
      ],
      "execution_count": 35,
      "outputs": []
    }
  ]
}